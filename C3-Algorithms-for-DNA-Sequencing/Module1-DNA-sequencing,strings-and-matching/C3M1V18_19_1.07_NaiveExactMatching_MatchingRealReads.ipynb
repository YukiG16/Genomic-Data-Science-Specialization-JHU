{
  "cells": [
    {
      "cell_type": "markdown",
      "source": [
        "## Genomic Data Science Specialization\n",
        "Johns Hopkins University\n",
        "# Course 3 : Algorithms for DNA Sequencing\n",
        "Module 1 :DNA sequencing, strings and matching\n",
        "## Practical: Matching artificial reads"
      ],
      "metadata": {
        "id": "Q5LOQQlReOkE"
      }
    },
    {
      "cell_type": "markdown",
      "source": [
        "In this practical exercise, we will implement the Naive Exact Matching algorithm, as previously presented in lecture, for the purpose of matching artificial reads to the genome.\n",
        "\n",
        "We shall commence by downloading the genome of the phi X organism."
      ],
      "metadata": {
        "id": "9_u9zdORmUYU"
      }
    },
    {
      "cell_type": "code",
      "execution_count": 1,
      "metadata": {
        "colab": {
          "base_uri": "https://localhost:8080/"
        },
        "id": "jJv5EAF-dtgy",
        "outputId": "ca93e3e3-c0ed-4c51-a00c-ad5577e8bfb7"
      },
      "outputs": [
        {
          "output_type": "stream",
          "name": "stdout",
          "text": [
            "--2024-10-11 12:04:39--  http://d28rh4a8wq0iu5.cloudfront.net/ads1/data/phix.fa\n",
            "Resolving d28rh4a8wq0iu5.cloudfront.net (d28rh4a8wq0iu5.cloudfront.net)... 3.163.78.78, 3.163.78.207, 3.163.78.194, ...\n",
            "Connecting to d28rh4a8wq0iu5.cloudfront.net (d28rh4a8wq0iu5.cloudfront.net)|3.163.78.78|:80... connected.\n",
            "HTTP request sent, awaiting response... 200 OK\n",
            "Length: 5528 (5.4K) [application/octet-stream]\n",
            "Saving to: ‘phix.fa’\n",
            "\n",
            "phix.fa             100%[===================>]   5.40K  --.-KB/s    in 0s      \n",
            "\n",
            "2024-10-11 12:04:39 (483 MB/s) - ‘phix.fa’ saved [5528/5528]\n",
            "\n"
          ]
        }
      ],
      "source": [
        "!wget http://d28rh4a8wq0iu5.cloudfront.net/ads1/data/phix.fa"
      ]
    },
    {
      "cell_type": "code",
      "execution_count": 2,
      "metadata": {
        "id": "oZDJ2feodtg1"
      },
      "outputs": [],
      "source": [
        "def readGenome(filename):\n",
        "    genome = ''\n",
        "    with open(filename, 'r') as f:\n",
        "        for line in f:\n",
        "            # ignore header line with genome information\n",
        "            if not line[0] == '>':\n",
        "                genome += line.rstrip()\n",
        "    return genome"
      ]
    },
    {
      "cell_type": "code",
      "execution_count": 3,
      "metadata": {
        "id": "ISAIO3OQdtg1"
      },
      "outputs": [],
      "source": [
        "genome = readGenome('phix.fa')"
      ]
    },
    {
      "cell_type": "markdown",
      "source": [
        "To search, two arguments are needed. The first is P, the pattern, and the second is T, the text to search.\n",
        "\n",
        "P could be a sequence or read sequence, while T is the genome to match it to."
      ],
      "metadata": {
        "id": "mdUEuyfgmtlI"
      }
    },
    {
      "cell_type": "code",
      "execution_count": 4,
      "metadata": {
        "id": "tfwcUsNBdtg1"
      },
      "outputs": [],
      "source": [
        "def naive(p, t):\n",
        "    occurrences = []\n",
        "    for i in range(len(t) - len(p) + 1):\n",
        "        match = True\n",
        "        for j in range(len(p)):\n",
        "            if t[i+j] != p[j]:\n",
        "                match = False\n",
        "                break\n",
        "        if match:\n",
        "            occurrences.append(i)\n",
        "    return occurrences"
      ]
    },
    {
      "cell_type": "code",
      "execution_count": 5,
      "metadata": {
        "colab": {
          "base_uri": "https://localhost:8080/"
        },
        "id": "GDh0jUovdtg2",
        "outputId": "4d7cf1f2-1734-45e6-9a94-09f1df2cd388"
      },
      "outputs": [
        {
          "output_type": "execute_result",
          "data": {
            "text/plain": [
              "[0, 5, 9]"
            ]
          },
          "metadata": {},
          "execution_count": 5
        }
      ],
      "source": [
        "t = 'AGCTTAGATAGC'\n",
        "p = 'AG'\n",
        "naive(p, t)"
      ]
    },
    {
      "cell_type": "markdown",
      "source": [
        "A brief pattern will be presented. I'll choose AG and run Naive on the text pattern. P aligns with T three times, yielding zero to two results.\n",
        "\n",
        "The range is five to seven. The pattern also occurs between positions nine and 11, where T can be any letter in the set AG."
      ],
      "metadata": {
        "id": "vrBXFk3QoAA8"
      }
    },
    {
      "cell_type": "code",
      "source": [
        "t[0:2]"
      ],
      "metadata": {
        "colab": {
          "base_uri": "https://localhost:8080/",
          "height": 36
        },
        "id": "FnPUeGvenPPy",
        "outputId": "6c490b33-b5db-4164-9e6e-3fdff179f280"
      },
      "execution_count": 15,
      "outputs": [
        {
          "output_type": "execute_result",
          "data": {
            "text/plain": [
              "'AG'"
            ],
            "application/vnd.google.colaboratory.intrinsic+json": {
              "type": "string"
            }
          },
          "metadata": {},
          "execution_count": 15
        }
      ]
    },
    {
      "cell_type": "code",
      "source": [
        "t[5:7]"
      ],
      "metadata": {
        "colab": {
          "base_uri": "https://localhost:8080/",
          "height": 36
        },
        "id": "bgnZvYE5nYw3",
        "outputId": "05f61de9-d095-4b18-f626-4c4d3fc6b49c"
      },
      "execution_count": 16,
      "outputs": [
        {
          "output_type": "execute_result",
          "data": {
            "text/plain": [
              "'AG'"
            ],
            "application/vnd.google.colaboratory.intrinsic+json": {
              "type": "string"
            }
          },
          "metadata": {},
          "execution_count": 16
        }
      ]
    },
    {
      "cell_type": "code",
      "source": [
        "t[9:11]"
      ],
      "metadata": {
        "colab": {
          "base_uri": "https://localhost:8080/",
          "height": 36
        },
        "id": "DgAnjsOYnd94",
        "outputId": "1eb07922-8ab2-4520-9940-3c2fc62dc1a4"
      },
      "execution_count": 17,
      "outputs": [
        {
          "output_type": "execute_result",
          "data": {
            "text/plain": [
              "'AG'"
            ],
            "application/vnd.google.colaboratory.intrinsic+json": {
              "type": "string"
            }
          },
          "metadata": {},
          "execution_count": 17
        }
      ]
    },
    {
      "cell_type": "markdown",
      "source": [
        "The objective is to generate a set of random reads from the genome sequence."
      ],
      "metadata": {
        "id": "-N4_ln8Wnrdw"
      }
    },
    {
      "cell_type": "code",
      "execution_count": 6,
      "metadata": {
        "id": "Bd5GwM8ldtg2"
      },
      "outputs": [],
      "source": [
        "import random\n",
        "def generateReads(genome, numReads, readLen):\n",
        "    ''' Generate reads from random positions in the given genome. '''\n",
        "    reads = []\n",
        "    for _ in range(numReads):\n",
        "        start = random.randint(0, len(genome)-readLen) - 1\n",
        "        reads.append(genome[start : start+readLen])\n",
        "    return reads"
      ]
    },
    {
      "cell_type": "markdown",
      "source": [
        "The generation of artificial reads is achieved by extracting sequences from a genome string at random positions.\n",
        "\n",
        "These reads are then expected to align perfectly with the original genome sequence. To test this approach, a series of reads can be generated using this method."
      ],
      "metadata": {
        "id": "g3g-rpJrodT_"
      }
    },
    {
      "cell_type": "markdown",
      "source": [
        "The genome can be considered the text, whereas the read is the pattern."
      ],
      "metadata": {
        "id": "I0kEmopEo76-"
      }
    },
    {
      "cell_type": "code",
      "execution_count": 7,
      "metadata": {
        "colab": {
          "base_uri": "https://localhost:8080/"
        },
        "id": "4Acfr_hmdtg2",
        "outputId": "97e0f106-e73d-4453-90d0-2dfd725af861"
      },
      "outputs": [
        {
          "output_type": "stream",
          "name": "stdout",
          "text": [
            "100 / 100 reads matched the genome exactly!\n"
          ]
        }
      ],
      "source": [
        "# Generate 100 reads of length 100\n",
        "reads = generateReads(genome, 100, 100)\n",
        "\n",
        "# Count how many reads match the genome exactly\n",
        "numMatched = 0\n",
        "for r in reads:\n",
        "    matches = naive(r, genome)\n",
        "    if len(matches) > 0:\n",
        "        numMatched += 1\n",
        "print('%d / %d reads matched the genome exactly!' % (numMatched, len(reads)))"
      ]
    },
    {
      "cell_type": "markdown",
      "source": [
        "## Practical: Matching real reads"
      ],
      "metadata": {
        "id": "79tKmu7Ne2_i"
      }
    },
    {
      "cell_type": "code",
      "execution_count": 8,
      "metadata": {
        "colab": {
          "base_uri": "https://localhost:8080/"
        },
        "id": "UkmfSRj0dtg2",
        "outputId": "4f450112-1645-47bc-fe7c-21ef0192df6f"
      },
      "outputs": [
        {
          "output_type": "stream",
          "name": "stdout",
          "text": [
            "--2024-10-11 12:05:16--  http://d28rh4a8wq0iu5.cloudfront.net/ads1/data/ERR266411_1.first1000.fastq\n",
            "Resolving d28rh4a8wq0iu5.cloudfront.net (d28rh4a8wq0iu5.cloudfront.net)... 3.163.78.207, 3.163.78.78, 3.163.78.34, ...\n",
            "Connecting to d28rh4a8wq0iu5.cloudfront.net (d28rh4a8wq0iu5.cloudfront.net)|3.163.78.207|:80... connected.\n",
            "HTTP request sent, awaiting response... 200 OK\n",
            "Length: 254384 (248K) [audio/mpeg]\n",
            "Saving to: ‘ERR266411_1.first1000.fastq’\n",
            "\n",
            "ERR266411_1.first10 100%[===================>] 248.42K  1.36MB/s    in 0.2s    \n",
            "\n",
            "2024-10-11 12:05:16 (1.36 MB/s) - ‘ERR266411_1.first1000.fastq’ saved [254384/254384]\n",
            "\n"
          ]
        }
      ],
      "source": [
        "!wget http://d28rh4a8wq0iu5.cloudfront.net/ads1/data/ERR266411_1.first1000.fastq"
      ]
    },
    {
      "cell_type": "code",
      "execution_count": 9,
      "metadata": {
        "collapsed": true,
        "id": "Zn4SLh9Pdtg2"
      },
      "outputs": [],
      "source": [
        "def readFastq(filename):\n",
        "    sequences = []\n",
        "    with open(filename) as fh:\n",
        "        while True:\n",
        "            fh.readline() # skip name line\n",
        "            seq = fh.readline().rstrip() # read base sequence\n",
        "            fh.readline() # skip placeholder line\n",
        "            fh.readline() # skip base quality line\n",
        "            if len(seq) == 0:\n",
        "                break\n",
        "            sequences.append(seq)\n",
        "    return sequences"
      ]
    },
    {
      "cell_type": "markdown",
      "source": [
        "The downloaded sequencing reads from the aforementioned file comprise a set of 1,000 reads.\n",
        "\n",
        "We will now perform the same operation as in Practical Six, using the artificial reads, and align them against the genome to ascertain the number of matches."
      ],
      "metadata": {
        "id": "ho8s9X1vkD01"
      }
    },
    {
      "cell_type": "code",
      "execution_count": 10,
      "metadata": {
        "colab": {
          "base_uri": "https://localhost:8080/"
        },
        "id": "ZkjWNRJVdtg3",
        "outputId": "8953e0da-22ff-4b1b-a930-7c5306e2d2a5"
      },
      "outputs": [
        {
          "output_type": "execute_result",
          "data": {
            "text/plain": [
              "Counter({'T': 30531, 'A': 28426, 'C': 21890, 'G': 19147, 'N': 6})"
            ]
          },
          "metadata": {},
          "execution_count": 10
        }
      ],
      "source": [
        "import collections\n",
        "phix_reads = readFastq('ERR266411_1.first1000.fastq')\n",
        "count = collections.Counter()\n",
        "for read in phix_reads:\n",
        "    count.update(read)\n",
        "count"
      ]
    },
    {
      "cell_type": "code",
      "execution_count": 11,
      "metadata": {
        "colab": {
          "base_uri": "https://localhost:8080/"
        },
        "id": "c2jFfBdYdtg3",
        "outputId": "9a55a855-e84d-42a3-bea8-4243aa6ec2f9"
      },
      "outputs": [
        {
          "output_type": "stream",
          "name": "stdout",
          "text": [
            "7 / 1000 reads matched the genome exactly!\n"
          ]
        }
      ],
      "source": [
        "numMatched = 0\n",
        "n = 0\n",
        "for r in phix_reads:\n",
        "    matches = naive(r, genome)\n",
        "    n += 1\n",
        "    if len(matches) > 0:\n",
        "        numMatched += 1\n",
        "print('%d / %d reads matched the genome exactly!' % (numMatched, n))"
      ]
    },
    {
      "cell_type": "markdown",
      "source": [
        "The reads originate from this genome. Only seven of the 1,000 reads align with the genome. Why would that be the case?\n",
        "\n",
        "Two potential explanations for this phenomenon have been identified. DNA sequences may not match genomes. Sequencing errors could result in incorrect base interpretation. Sequencing discrepancies may contribute to the lack of alignment. These reads likely aren't aligned due to sequencing errors.\n",
        "\n",
        "Extract the initial 30 bases to increase the probability of exact alignment. I'll implement a minor modification to extract the first 30 bases and run the program again."
      ],
      "metadata": {
        "id": "MTyWznDLieNx"
      }
    },
    {
      "cell_type": "code",
      "execution_count": 12,
      "metadata": {
        "colab": {
          "base_uri": "https://localhost:8080/"
        },
        "id": "Ik4czzFqdtg3",
        "outputId": "fef823a8-fa5f-4951-e41a-4e17bb2bab38"
      },
      "outputs": [
        {
          "output_type": "stream",
          "name": "stdout",
          "text": [
            "459 / 1000 reads matched the genome exactly!\n"
          ]
        }
      ],
      "source": [
        "# Now let's try matching just the first 30 bases of each read\n",
        "numMatched = 0\n",
        "n = 0\n",
        "for r in phix_reads:\n",
        "    r = r[:30]  # just taking the first 30 bases\n",
        "    matches = naive(r, genome)\n",
        "    n += 1\n",
        "    if len(matches) > 0:\n",
        "        numMatched += 1\n",
        "print('%d / %d reads matched the genome exactly!' % (numMatched, n))"
      ]
    },
    {
      "cell_type": "markdown",
      "source": [
        "459 out of 1,000 matching reads. The figure is under 50%.  This figure is below 1,000. Alignment rate with reference genome is less than 50%.\n",
        "\n",
        " Other reasons may explain why not all reads align. The genome is double-stranded, and the reads may originate from either. The problem has been configured to examine only one of the two strands.\n",
        "\n",
        "The issue is that the reads aren't aligned to both strands of the genome. The discrepancy in matching reads to the genome could be due to the reads aligning to the wrong strand. Aligning the reverse complement would ensure all cases are covered."
      ],
      "metadata": {
        "id": "Ix130W4bhjs2"
      }
    },
    {
      "cell_type": "code",
      "execution_count": 13,
      "metadata": {
        "id": "pV2wygIrdtg3"
      },
      "outputs": [],
      "source": [
        "def reverseComplement(s):\n",
        "    complement = {'A': 'T', 'C': 'G', 'G': 'C', 'T': 'A', 'N': 'N'}\n",
        "    t = ''\n",
        "    for base in s:\n",
        "        t = complement[base] + t\n",
        "    return t"
      ]
    },
    {
      "cell_type": "code",
      "execution_count": 14,
      "metadata": {
        "colab": {
          "base_uri": "https://localhost:8080/"
        },
        "id": "hLsaiHFidtg3",
        "outputId": "a95ade60-539d-47ba-f5ea-3dcc2c5ba393"
      },
      "outputs": [
        {
          "output_type": "stream",
          "name": "stdout",
          "text": [
            "932 / 1000 reads matched the genome exactly!\n"
          ]
        }
      ],
      "source": [
        "numMatched = 0\n",
        "n = 0\n",
        "for r in phix_reads:\n",
        "    r = r[:30]  # just taking the first 30 bases\n",
        "    matches = naive(r, genome)\n",
        "    matches.extend(naive(reverseComplement(r), genome))\n",
        "    n += 1\n",
        "    if len(matches) > 0:\n",
        "        numMatched += 1\n",
        "print('%d / %d reads matched the genome exactly!' % (numMatched, n))"
      ]
    },
    {
      "cell_type": "markdown",
      "source": [
        "932 out of 1,000 reads have been identified as matching, but this is not yet 100% accurate.\n",
        "\n",
        "Once it was determined that a full genome strand had been missed and a prefix read was taken instead of the entire read, the vast majority of reads in the data set were successfully matched."
      ],
      "metadata": {
        "id": "LyJejhIZjOKz"
      }
    }
  ],
  "metadata": {
    "kernelspec": {
      "display_name": "Python 2",
      "language": "python",
      "name": "python2"
    },
    "language_info": {
      "codemirror_mode": {
        "name": "ipython",
        "version": 2
      },
      "file_extension": ".py",
      "mimetype": "text/x-python",
      "name": "python",
      "nbconvert_exporter": "python",
      "pygments_lexer": "ipython2",
      "version": "2.7.10"
    },
    "colab": {
      "provenance": []
    }
  },
  "nbformat": 4,
  "nbformat_minor": 0
}