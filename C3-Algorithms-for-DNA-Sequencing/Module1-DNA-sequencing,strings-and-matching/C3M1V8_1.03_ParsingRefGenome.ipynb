{
  "cells": [
    {
      "cell_type": "markdown",
      "source": [
        "## Genomic Data Science Specialization\n",
        "Johns Hopkins University\n",
        "# Course 3 : Algorithms for DNA Sequencing\n",
        "Module 1 :DNA sequencing, strings and matching\n",
        "## Practical: Downloading and parsing a genome"
      ],
      "metadata": {
        "id": "-lQogrbtILwk"
      }
    },
    {
      "cell_type": "markdown",
      "source": [],
      "metadata": {
        "id": "gfZifPaZMaTE"
      }
    },
    {
      "cell_type": "markdown",
      "source": [
        "### Escherichia virus Lambda\n",
        "\n"
      ],
      "metadata": {
        "id": "OR_tVOBNLMhS"
      }
    },
    {
      "cell_type": "markdown",
      "source": [
        "![Enterobacteria_phage_lambda_model_360p.jpg](data:image/jpeg;base64,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)"
      ],
      "metadata": {
        "id": "M1wXAvqtMHJA"
      }
    },
    {
      "cell_type": "markdown",
      "source": [
        "Bacteriophage Lambda Structural Model at Atomic Resolution\n",
        "Dr. Victor Padilla-Sanchez, PhD - Own work CC BY-SA 4.0"
      ],
      "metadata": {
        "id": "2whwX00UMEU4"
      }
    },
    {
      "cell_type": "code",
      "execution_count": 1,
      "metadata": {
        "colab": {
          "base_uri": "https://localhost:8080/"
        },
        "id": "eL1aG57rHSlQ",
        "outputId": "07f1a85a-3620-454a-b29b-3b1f37adec86"
      },
      "outputs": [
        {
          "output_type": "stream",
          "name": "stdout",
          "text": [
            "--2024-10-10 15:48:07--  http://d28rh4a8wq0iu5.cloudfront.net/ads1/data/lambda_virus.fa\n",
            "Resolving d28rh4a8wq0iu5.cloudfront.net (d28rh4a8wq0iu5.cloudfront.net)... 3.163.78.34, 3.163.78.207, 3.163.78.194, ...\n",
            "Connecting to d28rh4a8wq0iu5.cloudfront.net (d28rh4a8wq0iu5.cloudfront.net)|3.163.78.34|:80... connected.\n",
            "HTTP request sent, awaiting response... 200 OK\n",
            "Length: 49270 (48K) [application/octet-stream]\n",
            "Saving to: ‘lambda_virus.fa’\n",
            "\n",
            "lambda_virus.fa     100%[===================>]  48.12K  --.-KB/s    in 0.02s   \n",
            "\n",
            "2024-10-10 15:48:07 (3.09 MB/s) - ‘lambda_virus.fa’ saved [49270/49270]\n",
            "\n"
          ]
        }
      ],
      "source": [
        "# Following line downloads FASTA file containing the lambda phage reference genome\n",
        "!wget http://d28rh4a8wq0iu5.cloudfront.net/ads1/data/lambda_virus.fa"
      ]
    },
    {
      "cell_type": "code",
      "execution_count": 2,
      "metadata": {
        "colab": {
          "base_uri": "https://localhost:8080/",
          "height": 36
        },
        "id": "4eiCVOGzHSlS",
        "outputId": "222e692c-b810-4787-b4cc-43aa90516cac"
      },
      "outputs": [
        {
          "output_type": "execute_result",
          "data": {
            "text/plain": [
              "'GGGCGGCGACCTCGCGGGTTTTCGCTATTTATGAAAATTTTCCGGTTTAAGGCGTTTCCGTTCTTCTTCGTCATAACTTAATGTTTTTATTTAAAATACC'"
            ],
            "application/vnd.google.colaboratory.intrinsic+json": {
              "type": "string"
            }
          },
          "metadata": {},
          "execution_count": 2
        }
      ],
      "source": [
        "def readGenome(filename):\n",
        "    genome = ''\n",
        "    with open(filename, 'r') as f:\n",
        "        for line in f:\n",
        "            # ignore header line with genome information\n",
        "            if not line[0] == '>':\n",
        "                genome += line.rstrip()\n",
        "    return genome\n",
        "genome = readGenome('lambda_virus.fa')\n",
        "genome[:100]"
      ]
    },
    {
      "cell_type": "code",
      "execution_count": 3,
      "metadata": {
        "colab": {
          "base_uri": "https://localhost:8080/"
        },
        "id": "8CMSxPRYHSlT",
        "outputId": "488ac51b-6789-417b-c0b0-dca39d84f8bc"
      },
      "outputs": [
        {
          "output_type": "stream",
          "name": "stdout",
          "text": [
            "{'A': 12334, 'C': 11362, 'G': 12820, 'T': 11986}\n"
          ]
        }
      ],
      "source": [
        "# Count the number of occurences of each base\n",
        "counts = {'A': 0, 'C': 0, 'G': 0, 'T': 0}\n",
        "for base in genome:\n",
        "    counts[base] += 1\n",
        "print(counts)"
      ]
    },
    {
      "cell_type": "code",
      "execution_count": 4,
      "metadata": {
        "colab": {
          "base_uri": "https://localhost:8080/"
        },
        "id": "wFOmgZqyHSlT",
        "outputId": "a9e14f07-2da7-4e0d-f62e-992ca74f3ee4"
      },
      "outputs": [
        {
          "output_type": "execute_result",
          "data": {
            "text/plain": [
              "Counter({'G': 12820, 'C': 11362, 'A': 12334, 'T': 11986})"
            ]
          },
          "metadata": {},
          "execution_count": 4
        }
      ],
      "source": [
        "import collections\n",
        "collections.Counter(genome)"
      ]
    }
  ],
  "metadata": {
    "kernelspec": {
      "display_name": "Python 3",
      "language": "python",
      "name": "python3"
    },
    "language_info": {
      "codemirror_mode": {
        "name": "ipython",
        "version": 3
      },
      "file_extension": ".py",
      "mimetype": "text/x-python",
      "name": "python",
      "nbconvert_exporter": "python",
      "pygments_lexer": "ipython3",
      "version": "3.4.3"
    },
    "colab": {
      "provenance": []
    }
  },
  "nbformat": 4,
  "nbformat_minor": 0
}